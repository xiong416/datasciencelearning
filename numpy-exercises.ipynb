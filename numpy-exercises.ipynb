{
 "cells": [
  {
   "cell_type": "markdown",
   "metadata": {},
   "source": [
    "# NumPy Practice\n",
    "\n",
    "This notebook offers a set of exercises for different tasks with NumPy.\n",
    "\n",
    "It should be noted there may be more than one different way to answer a question or complete an exercise.\n",
    "\n",
    "Exercises are based off (and directly taken from) the quick introduction to NumPy notebook.\n",
    "\n",
    "Different tasks will be detailed by comments or text.\n",
    "\n",
    "For further reference and resources, it's advised to check out the [NumPy documentation](https://numpy.org/devdocs/user/index.html).\n",
    "\n",
    "And if you get stuck, try searching for a question in the following format: \"how to do XYZ with numpy\", where XYZ is the function you want to leverage from NumPy."
   ]
  },
  {
   "cell_type": "code",
   "execution_count": 2,
   "metadata": {},
   "outputs": [],
   "source": [
    "# Import NumPy as its abbreviation 'np'\n",
    "import numpy as np"
   ]
  },
  {
   "cell_type": "code",
   "execution_count": 3,
   "metadata": {},
   "outputs": [
    {
     "name": "stdout",
     "output_type": "stream",
     "text": [
      "(3,) 1\n",
      "(2, 3) 2\n",
      "(3, 2, 3) 3\n"
     ]
    }
   ],
   "source": [
    "# Create a 1-dimensional NumPy array using np.array()\n",
    "a1 = np.array([1,2,3])\n",
    "print(a1.shape, a1.ndim)\n",
    "\n",
    "# Create a 2-dimensional NumPy array using np.array()\n",
    "a2 = np.array([[1,2,3],\n",
    "              [4,5,6]])\n",
    "print(a2.shape, a2.ndim)\n",
    "# Create a 3-dimensional Numpy array using np.array()\n",
    "a3 = np.array([[[1,2,3],\n",
    "               [4,5,6]],\n",
    "              [[7,8,9],\n",
    "              [10,11,12]],\n",
    "              [[13,14,15],\n",
    "              [16,17,18]]])\n",
    "print(a3.shape, a3.ndim)"
   ]
  },
  {
   "cell_type": "markdown",
   "metadata": {},
   "source": [
    "Now we've you've created 3 different arrays, let's find details about them.\n",
    "\n",
    "Find the shape, number of dimensions, data type, size and type of each array."
   ]
  },
  {
   "cell_type": "code",
   "execution_count": 4,
   "metadata": {},
   "outputs": [
    {
     "data": {
      "text/plain": [
       "((3,), 1, dtype('int32'), 3, numpy.ndarray)"
      ]
     },
     "execution_count": 4,
     "metadata": {},
     "output_type": "execute_result"
    }
   ],
   "source": [
    "# Attributes of 1-dimensional array (shape, \n",
    "# number of dimensions, data type, size and type)\n",
    "a1.shape, a1.ndim, a1.dtype, a1.size, type(a1)"
   ]
  },
  {
   "cell_type": "code",
   "execution_count": 5,
   "metadata": {},
   "outputs": [
    {
     "data": {
      "text/plain": [
       "((2, 3), 2, dtype('int32'), 6, numpy.ndarray)"
      ]
     },
     "execution_count": 5,
     "metadata": {},
     "output_type": "execute_result"
    }
   ],
   "source": [
    "# Attributes of 2-dimensional array\n",
    "a2.shape, a2.ndim, a2.dtype, a2.size, type(a2)"
   ]
  },
  {
   "cell_type": "code",
   "execution_count": 52,
   "metadata": {},
   "outputs": [
    {
     "data": {
      "text/plain": [
       "((3, 2, 3), 3, dtype('int32'), 18, numpy.ndarray)"
      ]
     },
     "execution_count": 52,
     "metadata": {},
     "output_type": "execute_result"
    }
   ],
   "source": [
    "# Attributes of 3-dimensional array\n",
    "a3.shape, a3.ndim, a3.dtype, a3.size, type(a3)"
   ]
  },
  {
   "cell_type": "code",
   "execution_count": 55,
   "metadata": {},
   "outputs": [
    {
     "data": {
      "text/html": [
       "<div>\n",
       "<style scoped>\n",
       "    .dataframe tbody tr th:only-of-type {\n",
       "        vertical-align: middle;\n",
       "    }\n",
       "\n",
       "    .dataframe tbody tr th {\n",
       "        vertical-align: top;\n",
       "    }\n",
       "\n",
       "    .dataframe thead th {\n",
       "        text-align: right;\n",
       "    }\n",
       "</style>\n",
       "<table border=\"1\" class=\"dataframe\">\n",
       "  <thead>\n",
       "    <tr style=\"text-align: right;\">\n",
       "      <th></th>\n",
       "      <th>0</th>\n",
       "      <th>1</th>\n",
       "      <th>2</th>\n",
       "    </tr>\n",
       "  </thead>\n",
       "  <tbody>\n",
       "    <tr>\n",
       "      <th>0</th>\n",
       "      <td>1</td>\n",
       "      <td>2</td>\n",
       "      <td>3</td>\n",
       "    </tr>\n",
       "    <tr>\n",
       "      <th>1</th>\n",
       "      <td>4</td>\n",
       "      <td>5</td>\n",
       "      <td>6</td>\n",
       "    </tr>\n",
       "  </tbody>\n",
       "</table>\n",
       "</div>"
      ],
      "text/plain": [
       "   0  1  2\n",
       "0  1  2  3\n",
       "1  4  5  6"
      ]
     },
     "execution_count": 55,
     "metadata": {},
     "output_type": "execute_result"
    }
   ],
   "source": [
    "# Import pandas and create a DataFrame out of one\n",
    "import pandas as pd\n",
    "# of the arrays you've created\n",
    "df = pd.DataFrame(a2)\n",
    "df"
   ]
  },
  {
   "cell_type": "code",
   "execution_count": 56,
   "metadata": {},
   "outputs": [
    {
     "data": {
      "text/plain": [
       "array([[1., 1.],\n",
       "       [1., 1.],\n",
       "       [1., 1.],\n",
       "       [1., 1.],\n",
       "       [1., 1.],\n",
       "       [1., 1.],\n",
       "       [1., 1.],\n",
       "       [1., 1.],\n",
       "       [1., 1.],\n",
       "       [1., 1.]])"
      ]
     },
     "execution_count": 56,
     "metadata": {},
     "output_type": "execute_result"
    }
   ],
   "source": [
    "# Create an array of shape (10, 2) with only ones\n",
    "ones_array = np.ones(20).reshape(10,2)\n",
    "ones_array"
   ]
  },
  {
   "cell_type": "code",
   "execution_count": 57,
   "metadata": {},
   "outputs": [
    {
     "data": {
      "text/plain": [
       "array([[[0., 0., 0.],\n",
       "        [0., 0., 0.]],\n",
       "\n",
       "       [[0., 0., 0.],\n",
       "        [0., 0., 0.]],\n",
       "\n",
       "       [[0., 0., 0.],\n",
       "        [0., 0., 0.]],\n",
       "\n",
       "       [[0., 0., 0.],\n",
       "        [0., 0., 0.]],\n",
       "\n",
       "       [[0., 0., 0.],\n",
       "        [0., 0., 0.]],\n",
       "\n",
       "       [[0., 0., 0.],\n",
       "        [0., 0., 0.]],\n",
       "\n",
       "       [[0., 0., 0.],\n",
       "        [0., 0., 0.]]])"
      ]
     },
     "execution_count": 57,
     "metadata": {},
     "output_type": "execute_result"
    }
   ],
   "source": [
    "# Create an array of shape (7, 2, 3) of only zeros\n",
    "zeros_array = np.zeros(42).reshape(7,2,3)\n",
    "zeros_array"
   ]
  },
  {
   "cell_type": "code",
   "execution_count": 58,
   "metadata": {},
   "outputs": [
    {
     "data": {
      "text/plain": [
       "array([ 0,  3,  6,  9, 12, 15, 18, 21, 24, 27, 30, 33, 36, 39, 42, 45, 48,\n",
       "       51, 54, 57, 60, 63, 66, 69, 72, 75, 78, 81, 84, 87, 90, 93, 96, 99])"
      ]
     },
     "execution_count": 58,
     "metadata": {},
     "output_type": "execute_result"
    }
   ],
   "source": [
    "# Create an array within a range of 0 and 100 with step 3\n",
    "array_range = np.array(range(0,100,3))\n",
    "array_range"
   ]
  },
  {
   "cell_type": "code",
   "execution_count": 60,
   "metadata": {},
   "outputs": [
    {
     "data": {
      "text/plain": [
       "array([[7, 1],\n",
       "       [1, 5],\n",
       "       [8, 6],\n",
       "       [1, 2],\n",
       "       [6, 1],\n",
       "       [2, 9],\n",
       "       [4, 2]])"
      ]
     },
     "execution_count": 60,
     "metadata": {},
     "output_type": "execute_result"
    }
   ],
   "source": [
    "# Create a random array with numbers between 0 and 10 of size (7, 2)\n",
    "random_array = np.random.randint(1,10,size=(7,2))\n",
    "random_array"
   ]
  },
  {
   "cell_type": "code",
   "execution_count": 62,
   "metadata": {},
   "outputs": [
    {
     "data": {
      "text/plain": [
       "array([[0.99496389, 0.96657847, 0.66060178, 0.83439902, 0.45516062],\n",
       "       [0.83978582, 0.56118822, 0.14444887, 0.52975876, 0.39452675],\n",
       "       [0.213333  , 0.94539621, 0.35346105, 0.70844654, 0.64558718]])"
      ]
     },
     "execution_count": 62,
     "metadata": {},
     "output_type": "execute_result"
    }
   ],
   "source": [
    "# Create a random array of floats between 0 & 1 of shape (3, 5)\n",
    "random_array_float = np.random.random((3,5))\n",
    "random_array_float"
   ]
  },
  {
   "cell_type": "code",
   "execution_count": 64,
   "metadata": {},
   "outputs": [
    {
     "data": {
      "text/plain": [
       "array([[7, 4, 8, 5, 7, 3],\n",
       "       [7, 8, 5, 4, 8, 8],\n",
       "       [3, 6, 5, 2, 8, 6],\n",
       "       [2, 5, 1, 6, 9, 1]])"
      ]
     },
     "execution_count": 64,
     "metadata": {},
     "output_type": "execute_result"
    }
   ],
   "source": [
    "# Set the random seed to 42\n",
    "np.random.seed(42)\n",
    "\n",
    "# Create a random array of numbers between 0 & 10 of size (4, 6)\n",
    "random_array_seed = np.random.randint(1,10,size=(4,6))\n",
    "random_array_seed"
   ]
  },
  {
   "cell_type": "markdown",
   "metadata": {},
   "source": [
    "Run the cell above again, what happens?\n",
    "\n",
    "Are the numbers in the array different or the same? Why do think this is?"
   ]
  },
  {
   "cell_type": "code",
   "execution_count": 66,
   "metadata": {},
   "outputs": [
    {
     "data": {
      "text/plain": [
       "array([1, 2, 3, 4, 5, 6, 7, 8, 9])"
      ]
     },
     "execution_count": 66,
     "metadata": {},
     "output_type": "execute_result"
    }
   ],
   "source": [
    "# Create an array of random numbers between 1 & 10 of size (3, 7)\n",
    "# and save it to a variable\n",
    "random_numbers = np.random.randint(1,10,size=(3,7))\n",
    "random_numbers\n",
    "\n",
    "# Find the unique numbers in the array you just created\n",
    "np.unique(random_numbers)"
   ]
  },
  {
   "cell_type": "code",
   "execution_count": 67,
   "metadata": {},
   "outputs": [
    {
     "data": {
      "text/plain": [
       "array([3, 1, 4, 2, 8, 4, 2])"
      ]
     },
     "execution_count": 67,
     "metadata": {},
     "output_type": "execute_result"
    }
   ],
   "source": [
    "# Find the 0'th index of the latest array you created\n",
    "random_numbers[0]"
   ]
  },
  {
   "cell_type": "code",
   "execution_count": 68,
   "metadata": {},
   "outputs": [
    {
     "data": {
      "text/plain": [
       "array([[3, 1, 4, 2, 8, 4, 2],\n",
       "       [6, 6, 4, 6, 2, 2, 4]])"
      ]
     },
     "execution_count": 68,
     "metadata": {},
     "output_type": "execute_result"
    }
   ],
   "source": [
    "# Get the first 2 rows of latest array you created\n",
    "random_numbers[:2]"
   ]
  },
  {
   "cell_type": "code",
   "execution_count": 69,
   "metadata": {},
   "outputs": [
    {
     "data": {
      "text/plain": [
       "array([[3, 1],\n",
       "       [6, 6]])"
      ]
     },
     "execution_count": 69,
     "metadata": {},
     "output_type": "execute_result"
    }
   ],
   "source": [
    "# Get the first 2 values of the first 2 rows of the latest array\n",
    "random_numbers[:2,:2]"
   ]
  },
  {
   "cell_type": "code",
   "execution_count": 70,
   "metadata": {},
   "outputs": [],
   "source": [
    "# Create a random array of numbers between 0 & 10 and an array of ones\n",
    "# both of size (3, 5), save them both to variables\n",
    "random_numbers_2 = np.random.randint(0,10,size=(3,5))\n",
    "ones_array_2 = np.ones((3,5))"
   ]
  },
  {
   "cell_type": "code",
   "execution_count": 71,
   "metadata": {},
   "outputs": [
    {
     "data": {
      "text/plain": [
       "array([[ 8., 10.,  9.,  9.,  1.],\n",
       "       [ 9.,  7.,  9.,  8.,  1.],\n",
       "       [ 8.,  8.,  3.,  1.,  8.]])"
      ]
     },
     "execution_count": 71,
     "metadata": {},
     "output_type": "execute_result"
    }
   ],
   "source": [
    "# Add the two arrays together\n",
    "random_numbers_2 + ones_array_2"
   ]
  },
  {
   "cell_type": "code",
   "execution_count": 72,
   "metadata": {},
   "outputs": [
    {
     "data": {
      "text/plain": [
       "array([[1., 1., 1.],\n",
       "       [1., 1., 1.],\n",
       "       [1., 1., 1.],\n",
       "       [1., 1., 1.],\n",
       "       [1., 1., 1.]])"
      ]
     },
     "execution_count": 72,
     "metadata": {},
     "output_type": "execute_result"
    }
   ],
   "source": [
    "# Create another array of ones of shape (5, 3)\n",
    "ones_array_3 = np.ones((5,3))\n",
    "ones_array_3"
   ]
  },
  {
   "cell_type": "code",
   "execution_count": 73,
   "metadata": {},
   "outputs": [
    {
     "ename": "ValueError",
     "evalue": "operands could not be broadcast together with shapes (5,3) (3,5) ",
     "output_type": "error",
     "traceback": [
      "\u001b[1;31m---------------------------------------------------------------------------\u001b[0m",
      "\u001b[1;31mValueError\u001b[0m                                Traceback (most recent call last)",
      "Cell \u001b[1;32mIn[73], line 2\u001b[0m\n\u001b[0;32m      1\u001b[0m \u001b[38;5;66;03m# Try add the array of ones and the other most recent array together\u001b[39;00m\n\u001b[1;32m----> 2\u001b[0m \u001b[43mones_array_3\u001b[49m\u001b[43m \u001b[49m\u001b[38;5;241;43m+\u001b[39;49m\u001b[43m \u001b[49m\u001b[43mones_array_2\u001b[49m\n",
      "\u001b[1;31mValueError\u001b[0m: operands could not be broadcast together with shapes (5,3) (3,5) "
     ]
    }
   ],
   "source": [
    "# Try add the array of ones and the other most recent array together\n",
    "ones_array_3 + ones_array_2"
   ]
  },
  {
   "cell_type": "markdown",
   "metadata": {},
   "source": [
    "When you try the last cell, it produces an error. Why do think this is?\n",
    "\n",
    "How would you fix it?"
   ]
  },
  {
   "cell_type": "code",
   "execution_count": 74,
   "metadata": {},
   "outputs": [
    {
     "data": {
      "text/plain": [
       "array([[1., 1., 1., 1., 1.],\n",
       "       [1., 1., 1., 1., 1.],\n",
       "       [1., 1., 1., 1., 1.]])"
      ]
     },
     "execution_count": 74,
     "metadata": {},
     "output_type": "execute_result"
    }
   ],
   "source": [
    "# Create another array of ones of shape (3, 5)\n",
    "ones_array_4 = np.ones((3,5))\n",
    "ones_array_4"
   ]
  },
  {
   "cell_type": "code",
   "execution_count": 81,
   "metadata": {},
   "outputs": [
    {
     "data": {
      "text/plain": [
       "array([[-6., -8., -7., -7.,  1.],\n",
       "       [-7., -5., -7., -6.,  1.],\n",
       "       [-6., -6., -1.,  1., -6.]])"
      ]
     },
     "execution_count": 81,
     "metadata": {},
     "output_type": "execute_result"
    }
   ],
   "source": [
    "# Subtract the new array of ones from the other most recent array\n",
    "ones_array_4 - random_numbers_2"
   ]
  },
  {
   "cell_type": "code",
   "execution_count": 80,
   "metadata": {},
   "outputs": [
    {
     "data": {
      "text/plain": [
       "array([[7., 9., 8., 8., 0.],\n",
       "       [8., 6., 8., 7., 0.],\n",
       "       [7., 7., 2., 0., 7.]])"
      ]
     },
     "execution_count": 80,
     "metadata": {},
     "output_type": "execute_result"
    }
   ],
   "source": [
    "# Multiply the ones array with the latest array\n",
    "ones_array_4 * random_numbers_2"
   ]
  },
  {
   "cell_type": "code",
   "execution_count": 82,
   "metadata": {},
   "outputs": [
    {
     "data": {
      "text/plain": [
       "array([[49, 81, 64, 64,  0],\n",
       "       [64, 36, 64, 49,  0],\n",
       "       [49, 49,  4,  0, 49]])"
      ]
     },
     "execution_count": 82,
     "metadata": {},
     "output_type": "execute_result"
    }
   ],
   "source": [
    "# Take the latest array to the power of 2 using '**'\n",
    "random_numbers_2 ** 2"
   ]
  },
  {
   "cell_type": "code",
   "execution_count": 83,
   "metadata": {},
   "outputs": [
    {
     "data": {
      "text/plain": [
       "array([[49, 81, 64, 64,  0],\n",
       "       [64, 36, 64, 49,  0],\n",
       "       [49, 49,  4,  0, 49]])"
      ]
     },
     "execution_count": 83,
     "metadata": {},
     "output_type": "execute_result"
    }
   ],
   "source": [
    "# Do the same thing with np.square()\n",
    "np.square(random_numbers_2)"
   ]
  },
  {
   "cell_type": "code",
   "execution_count": 84,
   "metadata": {},
   "outputs": [
    {
     "data": {
      "text/plain": [
       "5.6"
      ]
     },
     "execution_count": 84,
     "metadata": {},
     "output_type": "execute_result"
    }
   ],
   "source": [
    "# Find the mean of the latest array using np.mean()\n",
    "np.mean(random_numbers_2)"
   ]
  },
  {
   "cell_type": "code",
   "execution_count": 85,
   "metadata": {},
   "outputs": [
    {
     "data": {
      "text/plain": [
       "9"
      ]
     },
     "execution_count": 85,
     "metadata": {},
     "output_type": "execute_result"
    }
   ],
   "source": [
    "# Find the maximum of the latest array using np.max()\n",
    "np.max(random_numbers_2)"
   ]
  },
  {
   "cell_type": "code",
   "execution_count": 86,
   "metadata": {},
   "outputs": [
    {
     "data": {
      "text/plain": [
       "0"
      ]
     },
     "execution_count": 86,
     "metadata": {},
     "output_type": "execute_result"
    }
   ],
   "source": [
    "# Find the minimum of the latest array using np.min()\n",
    "np.min(random_numbers_2)"
   ]
  },
  {
   "cell_type": "code",
   "execution_count": 87,
   "metadata": {},
   "outputs": [
    {
     "data": {
      "text/plain": [
       "3.179098404684364"
      ]
     },
     "execution_count": 87,
     "metadata": {},
     "output_type": "execute_result"
    }
   ],
   "source": [
    "# Find the standard deviation of the latest array\n",
    "np.std(random_numbers_2)"
   ]
  },
  {
   "cell_type": "code",
   "execution_count": 88,
   "metadata": {},
   "outputs": [
    {
     "data": {
      "text/plain": [
       "10.106666666666667"
      ]
     },
     "execution_count": 88,
     "metadata": {},
     "output_type": "execute_result"
    }
   ],
   "source": [
    "# Find the variance of the latest array\n",
    "np.var(random_numbers_2)"
   ]
  },
  {
   "cell_type": "code",
   "execution_count": 96,
   "metadata": {},
   "outputs": [
    {
     "data": {
      "text/plain": [
       "array([[[7, 8, 7],\n",
       "        [9, 6, 7],\n",
       "        [8, 8, 2],\n",
       "        [8, 7, 0],\n",
       "        [0, 0, 7]]])"
      ]
     },
     "execution_count": 96,
     "metadata": {},
     "output_type": "execute_result"
    }
   ],
   "source": [
    "# Reshape the latest array to (3, 5, 1)\n",
    "random_numbers_2.reshape(3,5,1).T"
   ]
  },
  {
   "cell_type": "code",
   "execution_count": 98,
   "metadata": {},
   "outputs": [
    {
     "data": {
      "text/plain": [
       "array([[7, 8, 7],\n",
       "       [9, 6, 7],\n",
       "       [8, 8, 2],\n",
       "       [8, 7, 0],\n",
       "       [0, 0, 7]])"
      ]
     },
     "execution_count": 98,
     "metadata": {},
     "output_type": "execute_result"
    }
   ],
   "source": [
    "# Transpose the latest array\n",
    "# random_numbers_2\n",
    "random_numbers_2.T"
   ]
  },
  {
   "cell_type": "markdown",
   "metadata": {},
   "source": [
    "What does the transpose do?"
   ]
  },
  {
   "cell_type": "code",
   "execution_count": 99,
   "metadata": {},
   "outputs": [],
   "source": [
    "# Create two arrays of random integers between 0 to 10\n",
    "# one of size (3, 3) the other of size (3, 2)\n",
    "array_1 = np.random.randint(0,10,size=(3,3))\n",
    "array_2 = np.random.randint(0,10,size=(3,2))"
   ]
  },
  {
   "cell_type": "code",
   "execution_count": 100,
   "metadata": {},
   "outputs": [
    {
     "data": {
      "text/plain": [
       "array([[ 18,  14],\n",
       "       [ 77,  64],\n",
       "       [116,  99]])"
      ]
     },
     "execution_count": 100,
     "metadata": {},
     "output_type": "execute_result"
    }
   ],
   "source": [
    "# Perform a dot product on the two newest arrays you created\n",
    "np.dot(array_1, array_2)"
   ]
  },
  {
   "cell_type": "code",
   "execution_count": 101,
   "metadata": {},
   "outputs": [],
   "source": [
    "# Create two arrays of random integers between 0 to 10\n",
    "# both of size (4, 3)\n",
    "array_3 = np.random.randint(0,10, size=(4,3))\n",
    "array_4 = np.random.randint(0,10, size=(4,3))"
   ]
  },
  {
   "cell_type": "code",
   "execution_count": 102,
   "metadata": {},
   "outputs": [
    {
     "ename": "ValueError",
     "evalue": "shapes (4,3) and (4,3) not aligned: 3 (dim 1) != 4 (dim 0)",
     "output_type": "error",
     "traceback": [
      "\u001b[1;31m---------------------------------------------------------------------------\u001b[0m",
      "\u001b[1;31mValueError\u001b[0m                                Traceback (most recent call last)",
      "Cell \u001b[1;32mIn[102], line 2\u001b[0m\n\u001b[0;32m      1\u001b[0m \u001b[38;5;66;03m# Perform a dot product on the two newest arrays you created\u001b[39;00m\n\u001b[1;32m----> 2\u001b[0m \u001b[43mnp\u001b[49m\u001b[38;5;241;43m.\u001b[39;49m\u001b[43mdot\u001b[49m\u001b[43m(\u001b[49m\u001b[43marray_3\u001b[49m\u001b[43m,\u001b[49m\u001b[43marray_4\u001b[49m\u001b[43m)\u001b[49m\n",
      "File \u001b[1;32m<__array_function__ internals>:180\u001b[0m, in \u001b[0;36mdot\u001b[1;34m(*args, **kwargs)\u001b[0m\n",
      "\u001b[1;31mValueError\u001b[0m: shapes (4,3) and (4,3) not aligned: 3 (dim 1) != 4 (dim 0)"
     ]
    }
   ],
   "source": [
    "# Perform a dot product on the two newest arrays you created\n",
    "np.dot(array_3,array_4)"
   ]
  },
  {
   "cell_type": "markdown",
   "metadata": {},
   "source": [
    "It doesn't work. How would you fix it?"
   ]
  },
  {
   "cell_type": "code",
   "execution_count": 103,
   "metadata": {},
   "outputs": [
    {
     "data": {
      "text/plain": [
       "array([[ 99, 110,  38,  41],\n",
       "       [105, 119,  44,  44],\n",
       "       [ 36,  54,  12,  22],\n",
       "       [ 42,  52,   4,  22]])"
      ]
     },
     "execution_count": 103,
     "metadata": {},
     "output_type": "execute_result"
    }
   ],
   "source": [
    "# Take the latest two arrays, perform a transpose on one of them and then perform \n",
    "# a dot product on them both\n",
    "np.dot(array_3,array_4.T)"
   ]
  },
  {
   "cell_type": "markdown",
   "metadata": {},
   "source": [
    "Notice how performing a transpose allows the dot product to happen.\n",
    "\n",
    "Why is this?\n",
    "\n",
    "Checking out the documentation on [`np.dot()`](https://docs.scipy.org/doc/numpy/reference/generated/numpy.dot.html) may help, as well as reading [Math is Fun's guide on the dot product](https://www.mathsisfun.com/algebra/vectors-dot-product.html).\n",
    "\n",
    "Let's now compare arrays."
   ]
  },
  {
   "cell_type": "code",
   "execution_count": 104,
   "metadata": {},
   "outputs": [],
   "source": [
    "# Create two arrays of random integers between 0 & 10 of the same shape\n",
    "# and save them to variables\n",
    "array_5 = np.random.randint(0,10,size=(4,2))\n",
    "array_6 = np.random.randint(0,10,size=(4,2))"
   ]
  },
  {
   "cell_type": "code",
   "execution_count": 105,
   "metadata": {},
   "outputs": [
    {
     "data": {
      "text/plain": [
       "array([[False,  True],\n",
       "       [False,  True],\n",
       "       [False, False],\n",
       "       [False,  True]])"
      ]
     },
     "execution_count": 105,
     "metadata": {},
     "output_type": "execute_result"
    }
   ],
   "source": [
    "# Compare the two arrays with '>'\n",
    "array_5 > array_6"
   ]
  },
  {
   "cell_type": "markdown",
   "metadata": {},
   "source": [
    "What happens when you compare the arrays with `>`?"
   ]
  },
  {
   "cell_type": "code",
   "execution_count": 106,
   "metadata": {},
   "outputs": [
    {
     "data": {
      "text/plain": [
       "array([[False,  True],\n",
       "       [False,  True],\n",
       "       [False, False],\n",
       "       [False,  True]])"
      ]
     },
     "execution_count": 106,
     "metadata": {},
     "output_type": "execute_result"
    }
   ],
   "source": [
    "# Compare the two arrays with '>='\n",
    "array_5 >= array_6"
   ]
  },
  {
   "cell_type": "code",
   "execution_count": 107,
   "metadata": {},
   "outputs": [
    {
     "data": {
      "text/plain": [
       "array([[False, False],\n",
       "       [False, False],\n",
       "       [False, False],\n",
       "       [False,  True]])"
      ]
     },
     "execution_count": 107,
     "metadata": {},
     "output_type": "execute_result"
    }
   ],
   "source": [
    "# Find which elements of the first array are greater than 7\n",
    "array_5 > 7"
   ]
  },
  {
   "cell_type": "code",
   "execution_count": 108,
   "metadata": {},
   "outputs": [
    {
     "data": {
      "text/plain": [
       "array([[False, False],\n",
       "       [False, False],\n",
       "       [False, False],\n",
       "       [False, False]])"
      ]
     },
     "execution_count": 108,
     "metadata": {},
     "output_type": "execute_result"
    }
   ],
   "source": [
    "# Which parts of each array are equal? (try using '==')\n",
    "array_5 == array_6"
   ]
  },
  {
   "cell_type": "code",
   "execution_count": 109,
   "metadata": {},
   "outputs": [
    {
     "data": {
      "text/plain": [
       "array([[6, 6],\n",
       "       [3, 6],\n",
       "       [2, 5],\n",
       "       [1, 9]])"
      ]
     },
     "execution_count": 109,
     "metadata": {},
     "output_type": "execute_result"
    }
   ],
   "source": [
    "# Sort one of the arrays you just created in ascending order\n",
    "np.sort(array_5)"
   ]
  },
  {
   "cell_type": "code",
   "execution_count": 122,
   "metadata": {},
   "outputs": [
    {
     "data": {
      "text/plain": [
       "array([[0, 1],\n",
       "       [0, 1],\n",
       "       [0, 1],\n",
       "       [0, 1]], dtype=int64)"
      ]
     },
     "execution_count": 122,
     "metadata": {},
     "output_type": "execute_result"
    }
   ],
   "source": [
    "# Sort the indexes of one of the arrays you just created\n",
    "np.argsort(array_5)"
   ]
  },
  {
   "cell_type": "code",
   "execution_count": 112,
   "metadata": {},
   "outputs": [
    {
     "data": {
      "text/plain": [
       "7"
      ]
     },
     "execution_count": 112,
     "metadata": {},
     "output_type": "execute_result"
    }
   ],
   "source": [
    "# Find the index with the maximum value in one of the arrays you've created\n",
    "np.argmax(array_5)"
   ]
  },
  {
   "cell_type": "code",
   "execution_count": 113,
   "metadata": {},
   "outputs": [
    {
     "data": {
      "text/plain": [
       "6"
      ]
     },
     "execution_count": 113,
     "metadata": {},
     "output_type": "execute_result"
    }
   ],
   "source": [
    "# Find the index with the minimum value in one of the arrays you've created\n",
    "np.argmin(array_5)"
   ]
  },
  {
   "cell_type": "code",
   "execution_count": 115,
   "metadata": {},
   "outputs": [
    {
     "data": {
      "text/plain": [
       "array([0, 1, 1, 1], dtype=int64)"
      ]
     },
     "execution_count": 115,
     "metadata": {},
     "output_type": "execute_result"
    }
   ],
   "source": [
    "# Find the indexes with the maximum values down the 1st axis (axis=1)\n",
    "# of one of the arrays you created\n",
    "np.argmax(array_5, axis=1)"
   ]
  },
  {
   "cell_type": "code",
   "execution_count": 116,
   "metadata": {},
   "outputs": [
    {
     "data": {
      "text/plain": [
       "array([3, 2], dtype=int64)"
      ]
     },
     "execution_count": 116,
     "metadata": {},
     "output_type": "execute_result"
    }
   ],
   "source": [
    "# Find the indexes with the minimum values across the 0th axis (axis=0)\n",
    "# of one of the arrays you created\n",
    "np.argmin(array_5, axis=0)"
   ]
  },
  {
   "cell_type": "code",
   "execution_count": 120,
   "metadata": {},
   "outputs": [
    {
     "data": {
      "text/plain": [
       "array([0.35486083, 0.42477153, 0.21534438, 0.59709577, 0.59480321,\n",
       "       0.37220039, 0.33303487, 0.88496431, 0.38328424, 0.49350099,\n",
       "       0.28330476, 0.7867695 , 0.39744816, 0.51361105, 0.25335717,\n",
       "       0.98765959, 0.29149574, 0.77074253, 0.42749565, 0.20621741,\n",
       "       0.79971876, 0.33360679, 0.86519335, 0.91525718, 0.85982384,\n",
       "       0.03500791, 0.78737335, 0.41133947, 0.87372292, 0.63795426,\n",
       "       0.83364313, 0.49943177, 0.5350255 , 0.14438763, 0.78398736,\n",
       "       0.41938961, 0.50008012, 0.78509771, 0.5988454 , 0.20109873,\n",
       "       0.59023266, 0.40763286, 0.46952554, 0.02831127, 0.21002935,\n",
       "       0.28103808, 0.71296001, 0.01149247, 0.40877726, 0.92402687,\n",
       "       0.11188062, 0.51642439, 0.78652238, 0.94253131, 0.74677664,\n",
       "       0.72056555, 0.82648809, 0.44620122, 0.80584453, 0.0079644 ,\n",
       "       0.92456106, 0.44330651, 0.55338019, 0.25488225, 0.74253083,\n",
       "       0.07663581, 0.8726358 , 0.82811683, 0.21606012, 0.8093244 ,\n",
       "       0.78635773, 0.6322166 , 0.37352018, 0.27149875, 0.23178359,\n",
       "       0.31860896, 0.90355844, 0.07764078, 0.82887128, 0.34889008,\n",
       "       0.5215994 , 0.79448563, 0.88437655, 0.34478142, 0.46184348,\n",
       "       0.41451606, 0.01325103, 0.29594289, 0.45918923, 0.41109361,\n",
       "       0.72192923, 0.38480362, 0.48937645, 0.42960859, 0.74062615,\n",
       "       0.8629724 , 0.53188908, 0.78943219, 0.29678668, 0.54136961,\n",
       "       0.34522995, 0.41420093, 0.73241386, 0.88166248, 0.12149539,\n",
       "       0.63463926, 0.58214381, 0.11841504, 0.21189433, 0.31100249,\n",
       "       0.16693107, 0.24372948, 0.2676008 , 0.33567383, 0.74939045,\n",
       "       0.5719122 , 0.98624667, 0.41473583, 0.75386507, 0.87146842,\n",
       "       0.67897849, 0.41186474, 0.75359463, 0.20366714, 0.32755217,\n",
       "       0.54668526, 0.57540939, 0.02214148, 0.94511419, 0.69662727,\n",
       "       0.49570375, 0.93312723, 0.43909557, 0.98043557, 0.51228476,\n",
       "       0.11428577, 0.76480097, 0.67889773, 0.77298672, 0.95144203,\n",
       "       0.7764893 , 0.6113366 , 0.8573089 , 0.67324644, 0.40811906,\n",
       "       0.88561976, 0.22190046, 0.71464127, 0.88156345, 0.73131652,\n",
       "       0.69727542, 0.75263829, 0.46505525, 0.87417068, 0.20343648,\n",
       "       0.12738642, 0.28550878, 0.5315774 , 0.5105618 , 0.82059876,\n",
       "       0.40456866, 0.48434443, 0.01336768, 0.40973924, 0.64777423,\n",
       "       0.01550833, 0.28088197, 0.20795636, 0.04198543, 0.47926009,\n",
       "       0.18172329, 0.74308154, 0.84792788, 0.54558518, 0.98170734,\n",
       "       0.45047857, 0.51336821, 0.98921775, 0.23154844, 0.94254594,\n",
       "       0.04283756, 0.44638689, 0.07000351, 0.72923474, 0.60840894,\n",
       "       0.70663426, 0.3744804 , 0.36948193, 0.04531928, 0.34994494,\n",
       "       0.9292884 , 0.37922654, 0.83136771, 0.8423255 , 0.37324116,\n",
       "       0.63198868, 0.0953716 , 0.10367858, 0.04865766, 0.58101509,\n",
       "       0.42607098, 0.54803236, 0.52107319, 0.35020299, 0.67747341,\n",
       "       0.75850188, 0.01462826, 0.2072423 , 0.71323587, 0.38662017,\n",
       "       0.66248395, 0.34696266, 0.39075515, 0.15867887, 0.25823102,\n",
       "       0.60541176, 0.43316311, 0.77430268, 0.85258495, 0.54164642,\n",
       "       0.75826729, 0.30690451, 0.41497122, 0.71277768, 0.38621199,\n",
       "       0.58850494, 0.18537278, 0.59977131, 0.86151371, 0.86863964,\n",
       "       0.72434441, 0.74575338, 0.55792745, 0.58466809, 0.13365058,\n",
       "       0.44385919, 0.45077628, 0.95849784, 0.43108686, 0.54934264,\n",
       "       0.5332514 , 0.63676172, 0.74823283, 0.22504188, 0.52872442,\n",
       "       0.82591771, 0.46311471, 0.27845755, 0.65470908, 0.8237674 ,\n",
       "       0.06314029, 0.77679048, 0.82164793, 0.46152293, 0.98330566,\n",
       "       0.78670834, 0.77366256, 0.74783857, 0.1506081 , 0.21723089,\n",
       "       0.46399013, 0.26400435, 0.41524097, 0.88846411, 0.82432689,\n",
       "       0.63003988, 0.85812039, 0.78377239, 0.42898493, 0.20106515,\n",
       "       0.51420104, 0.73622888, 0.4364196 , 0.66677191, 0.09432743,\n",
       "       0.74800474, 0.81271362, 0.70683786, 0.96726359, 0.82665206,\n",
       "       0.90309373, 0.93357108, 0.80134799, 0.67425884, 0.00571858,\n",
       "       0.46582575, 0.5711623 , 0.30403027, 0.31810445, 0.96115942,\n",
       "       0.89171087, 0.84917901, 0.4060118 , 0.01369855, 0.08022225,\n",
       "       0.31219637, 0.01574291, 0.01714978, 0.9166033 , 0.7061585 ,\n",
       "       0.30895599, 0.13264458, 0.51163572, 0.00534616, 0.93841374,\n",
       "       0.41481512, 0.40233496, 0.39059361, 0.06932833, 0.63832224,\n",
       "       0.73300362, 0.6761254 , 0.13843549, 0.57884017, 0.56948448,\n",
       "       0.86841079, 0.37912766, 0.37148594, 0.61852706, 0.63307265,\n",
       "       0.46928523, 0.44305936, 0.49414767, 0.8610453 , 0.4611669 ,\n",
       "       0.93993179, 0.50400376, 0.94920069, 0.8328319 , 0.36243132,\n",
       "       0.86364142, 0.11006328, 0.92504718, 0.63164352, 0.05439075,\n",
       "       0.64425672, 0.97424765, 0.06980065, 0.55468771, 0.74779435,\n",
       "       0.81025859, 0.41382747, 0.20416656, 0.04234228, 0.57972616,\n",
       "       0.45291107, 0.9487444 , 0.06060491, 0.68539534, 0.02496622,\n",
       "       0.17143418, 0.453579  , 0.45487244, 0.68570054, 0.91021303,\n",
       "       0.63903216, 0.9535351 , 0.88161564, 0.5844998 , 0.83379195,\n",
       "       0.64257761, 0.07855783, 0.74056472, 0.09490844, 0.59408278,\n",
       "       0.70264021, 0.06652761, 0.23079465, 0.91567223, 0.61631449,\n",
       "       0.24628602, 0.69067977, 0.59677642, 0.5015757 , 0.97618697,\n",
       "       0.68345378, 0.37544111, 0.80007343, 0.88458329, 0.12522056,\n",
       "       0.20055298, 0.21622701, 0.69121181, 0.60303956, 0.61899156,\n",
       "       0.9407733 , 0.77591153, 0.12793692, 0.34750708, 0.43539365,\n",
       "       0.39596159, 0.66930861, 0.8918931 , 0.30605146, 0.55187714,\n",
       "       0.78940942, 0.41621806, 0.16811813, 0.47495097, 0.05522252,\n",
       "       0.94238345, 0.07482121, 0.43845672, 0.52988126, 0.98530383,\n",
       "       0.16602182, 0.11443152, 0.00870615, 0.15557144, 0.20727298,\n",
       "       0.63058094, 0.21970679, 0.02052081, 0.82661835, 0.3655957 ,\n",
       "       0.35369669, 0.30247903, 0.97537328, 0.17011542, 0.89823806,\n",
       "       0.77680333, 0.07647996, 0.9867291 , 0.27136596, 0.09858293,\n",
       "       0.82931423, 0.70667553, 0.61721881, 0.15598086, 0.47849612,\n",
       "       0.78055603, 0.30362394, 0.31168983, 0.00314091, 0.1742434 ,\n",
       "       0.87540563, 0.44174649, 0.9842345 , 0.39570796, 0.71518645,\n",
       "       0.28191904, 0.36380964, 0.19072599, 0.34706237, 0.54723752,\n",
       "       0.99177288, 0.66420171, 0.19924595, 0.04496144, 0.12635648,\n",
       "       0.5625552 , 0.76516033, 0.94041921, 0.01582317, 0.52276014,\n",
       "       0.47086736, 0.65605502, 0.55957885, 0.68703915, 0.65808258,\n",
       "       0.11701172, 0.79971791, 0.12323258, 0.69853063, 0.41614537,\n",
       "       0.51385073, 0.90329801, 0.88988373, 0.81785631, 0.51014838,\n",
       "       0.73623981, 0.51289706, 0.86960608, 0.40277583, 0.97023534,\n",
       "       0.93232276, 0.74160262, 0.27941588, 0.13165359, 0.85470345,\n",
       "       0.16530229, 0.85426079, 0.49076501, 0.40655678, 0.90319078,\n",
       "       0.60385098, 0.57661401, 0.55876594, 0.37116952, 0.7856431 ,\n",
       "       0.25279844, 0.93889496, 0.89398521, 0.33748033, 0.72946377,\n",
       "       0.57322319, 0.3376493 , 0.98852165, 0.02523735, 0.25264603,\n",
       "       0.52007406, 0.521953  , 0.58893307, 0.75167617, 0.62347783,\n",
       "       0.60028146, 0.05351446, 0.37653029, 0.23205574, 0.26537011,\n",
       "       0.55433747, 0.19950531, 0.2939491 , 0.23708471, 0.94850294,\n",
       "       0.94466573, 0.60994156, 0.92452247, 0.78581265, 0.58994788,\n",
       "       0.00643521, 0.77251629, 0.70248834, 0.61525365, 0.76042431,\n",
       "       0.51292216, 0.70408327, 0.93517209, 0.37580502, 0.70812183,\n",
       "       0.47568782, 0.67439965, 0.76289334, 0.0454525 , 0.64660044,\n",
       "       0.22674118, 0.67003254, 0.46833019, 0.77355274, 0.12340082,\n",
       "       0.62632235, 0.27847073, 0.852982  , 0.92838351, 0.99639829,\n",
       "       0.7960074 , 0.75373407, 0.21550076, 0.33600706, 0.46568254,\n",
       "       0.77338105, 0.91496587, 0.1891391 , 0.92236748, 0.69562465,\n",
       "       0.61077073, 0.19984127, 0.05552503, 0.5684649 , 0.65151568,\n",
       "       0.21078145, 0.55645621, 0.8564934 , 0.83506595, 0.92735518,\n",
       "       0.36588581, 0.31804957, 0.74942601, 0.43111241, 0.08754866,\n",
       "       0.28280113, 0.41858229, 0.29251643, 0.33220557, 0.29377591,\n",
       "       0.04149917, 0.6370947 , 0.59729242, 0.6533835 , 0.1923099 ,\n",
       "       0.29565454, 0.61961593, 0.59962757, 0.50633031, 0.35041325,\n",
       "       0.912931  , 0.33977024, 0.45561916, 0.67811383, 0.54302143,\n",
       "       0.34688598, 0.43564479, 0.79448082, 0.27812916, 0.14225524,\n",
       "       0.3131632 , 0.84953422, 0.08898971, 0.99169607, 0.5410029 ,\n",
       "       0.98484574, 0.93899642, 0.45281371, 0.19849107, 0.16488478,\n",
       "       0.23998936, 0.71013264, 0.27294999, 0.34142527, 0.4487788 ,\n",
       "       0.91323268, 0.18939342, 0.00502655, 0.06009641, 0.90476634,\n",
       "       0.64751646, 0.27304062, 0.1771925 , 0.29426674, 0.11479693,\n",
       "       0.94153291, 0.78420617, 0.46239118, 0.86496261, 0.2494582 ,\n",
       "       0.71712057, 0.8561325 , 0.35676871, 0.75746445, 0.29507235,\n",
       "       0.29885714, 0.10705718, 0.44005805, 0.72971191, 0.94022081,\n",
       "       0.60379699, 0.86313554, 0.82249465, 0.17334305, 0.48581743,\n",
       "       0.11692354, 0.68215316, 0.94989967, 0.13708946, 0.73388313,\n",
       "       0.63223815, 0.58360504, 0.39012023, 0.35513165, 0.04524919,\n",
       "       0.21790871, 0.01517688, 0.58141711, 0.10585324, 0.87301939,\n",
       "       0.52314302, 0.69968991, 0.41085709, 0.56057981, 0.94265918,\n",
       "       0.08273404, 0.25393777, 0.77998833, 0.09873721, 0.0756611 ,\n",
       "       0.3615414 , 0.09216796, 0.58507844, 0.22627525, 0.89569796,\n",
       "       0.78350008, 0.69970521, 0.61694403, 0.86346573, 0.22306206,\n",
       "       0.87310884, 0.7894923 , 0.74816083, 0.56125568, 0.24624416,\n",
       "       0.42354792, 0.79357065, 0.03177848, 0.78205077, 0.24007074,\n",
       "       0.1443092 , 0.11570132, 0.02725001, 0.52358649, 0.21825987,\n",
       "       0.98943177, 0.57443676, 0.13788527, 0.68876254, 0.89774357,\n",
       "       0.7451795 , 0.07643986, 0.89588418, 0.79392939, 0.1583039 ,\n",
       "       0.05178589, 0.55731058, 0.15603581, 0.83459095, 0.35833466,\n",
       "       0.91289244, 0.56568817, 0.18267238, 0.13959887, 0.57647244,\n",
       "       0.76188361, 0.78150565, 0.2757574 , 0.20424676, 0.0167563 ,\n",
       "       0.67919915, 0.07656826, 0.4207612 , 0.60168216, 0.93710894,\n",
       "       0.31180214, 0.24977216, 0.65416015, 0.61923903, 0.33210978,\n",
       "       0.92810184, 0.84486233, 0.22398255, 0.23914255, 0.51230035,\n",
       "       0.7735721 , 0.04404038, 0.69333515, 0.6482359 , 0.2314801 ,\n",
       "       0.68135301, 0.94018319, 0.04678584, 0.31965206, 0.43817672,\n",
       "       0.89926036, 0.96226145, 0.44411525, 0.75002841, 0.53166102,\n",
       "       0.53778293, 0.27809952, 0.21695625, 0.28800535, 0.55632801,\n",
       "       0.02915519, 0.90724894, 0.15628371, 0.22008868, 0.51827618,\n",
       "       0.71011477, 0.09572905, 0.3176947 , 0.96867461, 0.26234297,\n",
       "       0.31305015, 0.83649849, 0.05021443, 0.46461317, 0.37961676,\n",
       "       0.31658676, 0.28569959, 0.0913741 , 0.31482583, 0.0430524 ,\n",
       "       0.78096386, 0.39822779, 0.44390383, 0.89359459, 0.65805498,\n",
       "       0.0080591 , 0.94317482, 0.23714447, 0.10761418, 0.76812818,\n",
       "       0.50047732, 0.43377057, 0.24950308, 0.54747149, 0.27438461,\n",
       "       0.90158301, 0.21520448, 0.88435515, 0.55940543, 0.82848813,\n",
       "       0.712846  , 0.69669511, 0.32434581, 0.23389693, 0.21088623,\n",
       "       0.85719166, 0.82042682, 0.44057353, 0.13240461, 0.38225225,\n",
       "       0.61934345, 0.45440315, 0.78018927, 0.99762282, 0.19113209,\n",
       "       0.45965082, 0.4309839 , 0.30449253, 0.19809552, 0.06569212,\n",
       "       0.88711932, 0.4198487 , 0.49689552, 0.91694205, 0.77629048,\n",
       "       0.13050126, 0.56541997, 0.44225228, 0.79721107, 0.72423255,\n",
       "       0.69040572, 0.34054484, 0.80496373, 0.0523913 , 0.1596249 ,\n",
       "       0.33562327, 0.07680744, 0.23499428, 0.83015098, 0.94825154,\n",
       "       0.30460236, 0.2645158 , 0.27989265, 0.27771909, 0.03593018,\n",
       "       0.92691635, 0.21369814, 0.42000407, 0.00968688, 0.85795509,\n",
       "       0.73115734, 0.94675604, 0.78161548, 0.31370651, 0.24787336,\n",
       "       0.69771631, 0.36411278, 0.56621502, 0.00625747, 0.0618857 ,\n",
       "       0.53536794, 0.56607165, 0.75145294, 0.13196532, 0.51318308,\n",
       "       0.19444764, 0.09319612, 0.41049579, 0.16333665, 0.22178198,\n",
       "       0.31755458, 0.2593884 , 0.0875913 , 0.08991624, 0.19324942,\n",
       "       0.05055919, 0.62645702, 0.28732672, 0.27974597, 0.33199829,\n",
       "       0.66279627, 0.87063388, 0.75908693, 0.72752923, 0.48439119,\n",
       "       0.69380556, 0.55276237, 0.21625053, 0.20858837, 0.29639201,\n",
       "       0.91080267, 0.54741484, 0.73390538, 0.34655876, 0.40771577,\n",
       "       0.12556558, 0.17129496, 0.82735655, 0.58483863, 0.33753247,\n",
       "       0.80285121, 0.24651991, 0.9760327 , 0.34481761, 0.33731095,\n",
       "       0.31191191, 0.12211152, 0.11113715, 0.64810503, 0.87511804,\n",
       "       0.79052051, 0.14110759, 0.54558212, 0.10559155, 0.04529464,\n",
       "       0.65638586, 0.53515233, 0.08202369, 0.03493925, 0.98975641,\n",
       "       0.03002133, 0.44452825, 0.50461902, 0.11728015, 0.16906178,\n",
       "       0.35180501, 0.76167588, 0.50708242, 0.63790187, 0.98517456,\n",
       "       0.76800544, 0.4343615 , 0.44644192, 0.61877208, 0.66536521,\n",
       "       0.50071093, 0.64486122, 0.02353249, 0.42962286, 0.27893808,\n",
       "       0.12917445, 0.09954651, 0.60319217, 0.52360055, 0.25358412,\n",
       "       0.47095006, 0.49223232, 0.19500898, 0.65209306, 0.78091936,\n",
       "       0.79146354, 0.60246983, 0.51163858, 0.06100714, 0.2878313 ,\n",
       "       0.09327145, 0.96382316, 0.13508015, 0.15177541, 0.88957662,\n",
       "       0.94392828, 0.76582904, 0.00540492, 0.00134627, 0.37810077,\n",
       "       0.14339537, 0.01838614, 0.46406669, 0.9430619 , 0.32381957,\n",
       "       0.66114068, 0.65223535, 0.2510801 , 0.65042525, 0.21233397,\n",
       "       0.12200741, 0.70138329, 0.11344082, 0.99690922, 0.1834524 ,\n",
       "       0.59414186, 0.41137457, 0.12638642, 0.02784391, 0.62273228,\n",
       "       0.80675756, 0.84201566, 0.48271347, 0.77745547, 0.67284713,\n",
       "       0.72425453, 0.49259901, 0.63341174, 0.80552591, 0.39788418,\n",
       "       0.8059789 , 0.59201684, 0.16590102, 0.02468416, 0.3627536 ,\n",
       "       0.54669633, 0.83982035, 0.12748568, 0.80020635, 0.86300905,\n",
       "       0.15068749, 0.85159432, 0.99145357, 0.72683883, 0.78476968])"
      ]
     },
     "execution_count": 120,
     "metadata": {},
     "output_type": "execute_result"
    }
   ],
   "source": [
    "# Create an array of normally distributed random numbers\n",
    "random_distributed_array = np.random.random(1000)\n",
    "random_distributed_array"
   ]
  },
  {
   "cell_type": "code",
   "execution_count": 121,
   "metadata": {},
   "outputs": [
    {
     "data": {
      "text/plain": [
       "array([ 1, 11, 21, 31, 41, 51, 61, 71, 81, 91])"
      ]
     },
     "execution_count": 121,
     "metadata": {},
     "output_type": "execute_result"
    }
   ],
   "source": [
    "# Create an array with 10 evenly spaced numbers between 1 and 100\n",
    "np.array(range(1,100,10))"
   ]
  },
  {
   "cell_type": "markdown",
   "metadata": {},
   "source": [
    "## Extensions\n",
    "\n",
    "For more exercises, check out the [NumPy quickstart tutorial](https://numpy.org/doc/stable/user/quickstart.html). A good practice would be to read through it and for the parts you find interesting, add them into the end of this notebook.\n",
    "\n",
    "Pay particular attention to the section on broadcasting. And most importantly, get hands-on with the code as much as possible. If in dobut, run the code, see what it does.\n",
    "\n",
    "The next place you could go is the [Stack Overflow page for the top questions and answers for NumPy](https://stackoverflow.com/questions/tagged/numpy?sort=MostVotes&edited=true). Often, you'll find some of the most common and useful NumPy functions here. Don't forget to play around with the filters! You'll likely find something helpful here.\n",
    "\n",
    "Finally, as always, remember, the best way to learn something new is to try it. And try it relentlessly. If you get interested in some kind of NumPy function, asking yourself, \"I wonder if NumPy could do that?\", go and find out."
   ]
  }
 ],
 "metadata": {
  "kernelspec": {
   "display_name": "Python 3 (ipykernel)",
   "language": "python",
   "name": "python3"
  },
  "language_info": {
   "codemirror_mode": {
    "name": "ipython",
    "version": 3
   },
   "file_extension": ".py",
   "mimetype": "text/x-python",
   "name": "python",
   "nbconvert_exporter": "python",
   "pygments_lexer": "ipython3",
   "version": "3.10.9"
  }
 },
 "nbformat": 4,
 "nbformat_minor": 2
}

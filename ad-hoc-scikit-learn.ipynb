{
 "cells": [
  {
   "cell_type": "code",
   "execution_count": 7,
   "id": "b97e2858",
   "metadata": {},
   "outputs": [
    {
     "data": {
      "text/plain": [
       "0.96"
      ]
     },
     "execution_count": 7,
     "metadata": {},
     "output_type": "execute_result"
    }
   ],
   "source": [
    ">>> from sklearn.datasets import make_classification\n",
    ">>> from sklearn.linear_model import LogisticRegression\n",
    ">>> from sklearn.model_selection import train_test_split\n",
    ">>> from sklearn.pipeline import make_pipeline, Pipeline\n",
    ">>> from sklearn.preprocessing import StandardScaler\n",
    "\n",
    ">>> X, y = make_classification(random_state=42)\n",
    ">>> X_train, X_test, y_train, y_test = train_test_split(X, y, random_state=42)\n",
    ">>> pipe = make_pipeline(StandardScaler(), LogisticRegression())\n",
    ">>> pipe.fit(X_train, y_train)  # apply scaling on training data\n",
    ">>> Pipeline(steps=[('standardscaler', StandardScaler()),\n",
    "                ('logisticregression', LogisticRegression())])\n",
    "\n",
    ">>> pipe.score(X_test, y_test)  # apply scaling on testing data, without leaking training data.\n",
    "0.96"
   ]
  },
  {
   "cell_type": "code",
   "execution_count": 4,
   "id": "ce4df102",
   "metadata": {},
   "outputs": [
    {
     "data": {
      "text/plain": [
       "sklearn.pipeline.Pipeline"
      ]
     },
     "execution_count": 4,
     "metadata": {},
     "output_type": "execute_result"
    }
   ],
   "source": [
    "type(pipe)"
   ]
  },
  {
   "cell_type": "code",
   "execution_count": 6,
   "id": "34e6cdc3",
   "metadata": {},
   "outputs": [
    {
     "data": {
      "text/plain": [
       "(array([[-2.02514259,  0.0291022 , -0.47494531, ..., -0.33450124,\n",
       "          0.86575519, -1.20029641],\n",
       "        [ 1.61371127,  0.65992405, -0.15005559, ...,  1.37570681,\n",
       "          0.70117274, -0.2975635 ],\n",
       "        [ 0.16645221,  0.95057302,  1.42050425, ...,  1.18901653,\n",
       "         -0.55547712, -0.63738713],\n",
       "        ...,\n",
       "        [-0.03955515, -1.60499282,  0.22213377, ..., -0.30917212,\n",
       "         -0.46227529, -0.43449623],\n",
       "        [ 1.08589557,  1.2031659 , -0.6095122 , ..., -0.3052247 ,\n",
       "         -1.31183623, -1.06511366],\n",
       "        [-0.00607091,  1.30857636, -0.17495976, ...,  0.99204235,\n",
       "          0.32169781, -0.66809045]]),\n",
       " array([0, 0, 1, 1, 0, 0, 0, 1, 0, 1, 1, 0, 0, 0, 1, 1, 1, 0, 0, 1, 1, 0,\n",
       "        0, 0, 0, 1, 1, 0, 1, 0, 0, 0, 0, 0, 0, 1, 0, 0, 1, 1, 1, 0, 1, 0,\n",
       "        0, 1, 1, 0, 0, 1, 1, 1, 0, 1, 0, 0, 1, 1, 0, 1, 1, 1, 1, 1, 0, 1,\n",
       "        0, 0, 1, 0, 1, 0, 1, 0, 1, 1, 1, 0, 0, 0, 1, 0, 1, 0, 1, 1, 1, 1,\n",
       "        1, 0, 0, 1, 0, 1, 1, 0, 1, 1, 0, 0]))"
      ]
     },
     "execution_count": 6,
     "metadata": {},
     "output_type": "execute_result"
    }
   ],
   "source": [
    "X, y"
   ]
  },
  {
   "cell_type": "code",
   "execution_count": null,
   "id": "df6b1549",
   "metadata": {},
   "outputs": [],
   "source": []
  }
 ],
 "metadata": {
  "kernelspec": {
   "display_name": "Python 3 (ipykernel)",
   "language": "python",
   "name": "python3"
  },
  "language_info": {
   "codemirror_mode": {
    "name": "ipython",
    "version": 3
   },
   "file_extension": ".py",
   "mimetype": "text/x-python",
   "name": "python",
   "nbconvert_exporter": "python",
   "pygments_lexer": "ipython3",
   "version": "3.10.9"
  }
 },
 "nbformat": 4,
 "nbformat_minor": 5
}
